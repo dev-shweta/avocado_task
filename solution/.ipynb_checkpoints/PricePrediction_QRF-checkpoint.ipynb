{
 "cells": [
  {
   "cell_type": "markdown",
   "metadata": {},
   "source": [
    "# Models for predicting Spot prices for next day with QRF\n",
    "\n",
    "## Import all the necessary libraries"
   ]
  },
  {
   "cell_type": "code",
   "execution_count": 4,
   "metadata": {},
   "outputs": [],
   "source": [
    "import numpy as np\n",
    "import pandas as pd\n",
    "import matplotlib.pyplot as plt\n",
    "plt.style.use('ggplot')\n",
    "from IPython.display import display\n",
    "import seaborn as sns\n",
    "sns.set()#(color_codes=True)"
   ]
  },
  {
   "cell_type": "markdown",
   "metadata": {},
   "source": [
    "### Read the data, using csv files "
   ]
  },
  {
   "cell_type": "raw",
   "metadata": {},
   "source": [
    "def get_data(filename):\n",
    "    df_price = pd.read_csv(filename, sep=',')\n",
    "    df_price['system_datetime'] = pd.to_datetime(df_price['system_datetime'])\n",
    "    df_price = df_price.set_index(['system_datetime'])\n",
    "    return df_price\n",
    "\n",
    "prices = get_data(filename='/Users/shwetatiwari2601/Projects/hawk_private/dev_shweta/data/data_NO2.csv')\n",
    "#prices = get_data(filename='/Users/shwetatiwari2601/Desktop/HAWK_Papers/Dataset/HAWK/NVE_data_dump/faktaKraftPris.csv')\n",
    "#print('Shape of the data', prices.shape) \n",
    "#prices = prices.groupby('pricearea_id').apply(lambda df: df.sort_values(['system_date', 'system_time']))\n",
    "prices.head()"
   ]
  },
  {
   "cell_type": "code",
   "execution_count": 8,
   "metadata": {},
   "outputs": [
    {
     "data": {
      "text/html": [
       "<div>\n",
       "<style scoped>\n",
       "    .dataframe tbody tr th:only-of-type {\n",
       "        vertical-align: middle;\n",
       "    }\n",
       "\n",
       "    .dataframe tbody tr th {\n",
       "        vertical-align: top;\n",
       "    }\n",
       "\n",
       "    .dataframe thead th {\n",
       "        text-align: right;\n",
       "    }\n",
       "</style>\n",
       "<table border=\"1\" class=\"dataframe\">\n",
       "  <thead>\n",
       "    <tr style=\"text-align: right;\">\n",
       "      <th></th>\n",
       "      <th>datetime_utc</th>\n",
       "      <th>demand_t-0</th>\n",
       "      <th>production_t-0</th>\n",
       "      <th>spot_t-0</th>\n",
       "    </tr>\n",
       "  </thead>\n",
       "  <tbody>\n",
       "    <tr>\n",
       "      <th>0</th>\n",
       "      <td>2015-12-31 23:00:00+00:00</td>\n",
       "      <td>4043.0</td>\n",
       "      <td>7818.0</td>\n",
       "      <td>16.39</td>\n",
       "    </tr>\n",
       "    <tr>\n",
       "      <th>1</th>\n",
       "      <td>2016-01-01 00:00:00+00:00</td>\n",
       "      <td>4010.0</td>\n",
       "      <td>7694.0</td>\n",
       "      <td>16.04</td>\n",
       "    </tr>\n",
       "    <tr>\n",
       "      <th>2</th>\n",
       "      <td>2016-01-01 01:00:00+00:00</td>\n",
       "      <td>3930.0</td>\n",
       "      <td>7437.0</td>\n",
       "      <td>15.74</td>\n",
       "    </tr>\n",
       "    <tr>\n",
       "      <th>3</th>\n",
       "      <td>2016-01-01 02:00:00+00:00</td>\n",
       "      <td>3839.0</td>\n",
       "      <td>7120.0</td>\n",
       "      <td>15.57</td>\n",
       "    </tr>\n",
       "    <tr>\n",
       "      <th>4</th>\n",
       "      <td>2016-01-01 03:00:00+00:00</td>\n",
       "      <td>3833.0</td>\n",
       "      <td>7041.0</td>\n",
       "      <td>15.47</td>\n",
       "    </tr>\n",
       "  </tbody>\n",
       "</table>\n",
       "</div>"
      ],
      "text/plain": [
       "                datetime_utc  demand_t-0  production_t-0  spot_t-0\n",
       "0  2015-12-31 23:00:00+00:00      4043.0          7818.0     16.39\n",
       "1  2016-01-01 00:00:00+00:00      4010.0          7694.0     16.04\n",
       "2  2016-01-01 01:00:00+00:00      3930.0          7437.0     15.74\n",
       "3  2016-01-01 02:00:00+00:00      3839.0          7120.0     15.57\n",
       "4  2016-01-01 03:00:00+00:00      3833.0          7041.0     15.47"
      ]
     },
     "execution_count": 8,
     "metadata": {},
     "output_type": "execute_result"
    }
   ],
   "source": [
    "df = pd.read_csv('/Users/shwetatiwari2601/Projects/hawk_private/dev_shweta/data/data_NO2.csv', sep= ',')\n",
    "df.head()"
   ]
  },
  {
   "cell_type": "code",
   "execution_count": 11,
   "metadata": {},
   "outputs": [
    {
     "data": {
      "text/html": [
       "<div>\n",
       "<style scoped>\n",
       "    .dataframe tbody tr th:only-of-type {\n",
       "        vertical-align: middle;\n",
       "    }\n",
       "\n",
       "    .dataframe tbody tr th {\n",
       "        vertical-align: top;\n",
       "    }\n",
       "\n",
       "    .dataframe thead th {\n",
       "        text-align: right;\n",
       "    }\n",
       "</style>\n",
       "<table border=\"1\" class=\"dataframe\">\n",
       "  <thead>\n",
       "    <tr style=\"text-align: right;\">\n",
       "      <th></th>\n",
       "      <th>datetime_utc</th>\n",
       "      <th>demand_t-0</th>\n",
       "      <th>production_t-0</th>\n",
       "      <th>price</th>\n",
       "    </tr>\n",
       "  </thead>\n",
       "  <tbody>\n",
       "    <tr>\n",
       "      <th>0</th>\n",
       "      <td>2015-12-31 23:00:00+00:00</td>\n",
       "      <td>4043.0</td>\n",
       "      <td>7818.0</td>\n",
       "      <td>16.39</td>\n",
       "    </tr>\n",
       "    <tr>\n",
       "      <th>1</th>\n",
       "      <td>2016-01-01 00:00:00+00:00</td>\n",
       "      <td>4010.0</td>\n",
       "      <td>7694.0</td>\n",
       "      <td>16.04</td>\n",
       "    </tr>\n",
       "    <tr>\n",
       "      <th>2</th>\n",
       "      <td>2016-01-01 01:00:00+00:00</td>\n",
       "      <td>3930.0</td>\n",
       "      <td>7437.0</td>\n",
       "      <td>15.74</td>\n",
       "    </tr>\n",
       "    <tr>\n",
       "      <th>3</th>\n",
       "      <td>2016-01-01 02:00:00+00:00</td>\n",
       "      <td>3839.0</td>\n",
       "      <td>7120.0</td>\n",
       "      <td>15.57</td>\n",
       "    </tr>\n",
       "    <tr>\n",
       "      <th>4</th>\n",
       "      <td>2016-01-01 03:00:00+00:00</td>\n",
       "      <td>3833.0</td>\n",
       "      <td>7041.0</td>\n",
       "      <td>15.47</td>\n",
       "    </tr>\n",
       "  </tbody>\n",
       "</table>\n",
       "</div>"
      ],
      "text/plain": [
       "                datetime_utc  demand_t-0  production_t-0  price\n",
       "0  2015-12-31 23:00:00+00:00      4043.0          7818.0  16.39\n",
       "1  2016-01-01 00:00:00+00:00      4010.0          7694.0  16.04\n",
       "2  2016-01-01 01:00:00+00:00      3930.0          7437.0  15.74\n",
       "3  2016-01-01 02:00:00+00:00      3839.0          7120.0  15.57\n",
       "4  2016-01-01 03:00:00+00:00      3833.0          7041.0  15.47"
      ]
     },
     "execution_count": 11,
     "metadata": {},
     "output_type": "execute_result"
    }
   ],
   "source": [
    "df = df.rename(columns={'spot_t-0':'price'})\n",
    "df.head()"
   ]
  },
  {
   "cell_type": "code",
   "execution_count": 18,
   "metadata": {},
   "outputs": [
    {
     "data": {
      "image/png": "[encoded data removed]",
      "text/plain": [
       "<Figure size 432x288 with 1 Axes>"
      ]
     },
     "metadata": {},
     "output_type": "display_data"
    }
   ],
   "source": [
    "sns_plot = sns.distplot(df.price)\n",
    "sns_plot.figure.savefig('data_dis.pdf')"
   ]
  },
  {
   "cell_type": "code",
   "execution_count": 9,
   "metadata": {},
   "outputs": [
    {
     "data": {
      "text/html": [
       "<div>\n",
       "<style scoped>\n",
       "    .dataframe tbody tr th:only-of-type {\n",
       "        vertical-align: middle;\n",
       "    }\n",
       "\n",
       "    .dataframe tbody tr th {\n",
       "        vertical-align: top;\n",
       "    }\n",
       "\n",
       "    .dataframe thead th {\n",
       "        text-align: right;\n",
       "    }\n",
       "</style>\n",
       "<table border=\"1\" class=\"dataframe\">\n",
       "  <thead>\n",
       "    <tr style=\"text-align: right;\">\n",
       "      <th></th>\n",
       "      <th></th>\n",
       "      <th>price</th>\n",
       "      <th>area</th>\n",
       "    </tr>\n",
       "    <tr>\n",
       "      <th>pricearea_id</th>\n",
       "      <th>system_datetime</th>\n",
       "      <th></th>\n",
       "      <th></th>\n",
       "    </tr>\n",
       "  </thead>\n",
       "  <tbody>\n",
       "    <tr>\n",
       "      <th rowspan=\"5\" valign=\"top\">3</th>\n",
       "      <th>2015-12-31 23:00:00+00:00</th>\n",
       "      <td>16.39</td>\n",
       "      <td>3</td>\n",
       "    </tr>\n",
       "    <tr>\n",
       "      <th>2016-01-01 00:00:00+00:00</th>\n",
       "      <td>16.04</td>\n",
       "      <td>3</td>\n",
       "    </tr>\n",
       "    <tr>\n",
       "      <th>2016-01-01 01:00:00+00:00</th>\n",
       "      <td>15.74</td>\n",
       "      <td>3</td>\n",
       "    </tr>\n",
       "    <tr>\n",
       "      <th>2016-01-01 02:00:00+00:00</th>\n",
       "      <td>15.57</td>\n",
       "      <td>3</td>\n",
       "    </tr>\n",
       "    <tr>\n",
       "      <th>2016-01-01 03:00:00+00:00</th>\n",
       "      <td>15.47</td>\n",
       "      <td>3</td>\n",
       "    </tr>\n",
       "  </tbody>\n",
       "</table>\n",
       "</div>"
      ],
      "text/plain": [
       "                                        price  area\n",
       "pricearea_id system_datetime                       \n",
       "3            2015-12-31 23:00:00+00:00  16.39     3\n",
       "             2016-01-01 00:00:00+00:00  16.04     3\n",
       "             2016-01-01 01:00:00+00:00  15.74     3\n",
       "             2016-01-01 02:00:00+00:00  15.57     3\n",
       "             2016-01-01 03:00:00+00:00  15.47     3"
      ]
     },
     "execution_count": 9,
     "metadata": {},
     "output_type": "execute_result"
    }
   ],
   "source": [
    "df_test = pd.DataFrame(index=prices.index)\n",
    "df_test['price'] = prices.spot_price\n",
    "df_test['area'] = prices.pricearea_id\n",
    "df_test.head()"
   ]
  },
  {
   "cell_type": "code",
   "execution_count": 11,
   "metadata": {},
   "outputs": [
    {
     "data": {
      "image/png": "[encoded data removed]",
      "text/plain": [
       "<Figure size 864x360 with 1 Axes>"
      ]
     },
     "metadata": {},
     "output_type": "display_data"
    }
   ],
   "source": [
    "ax = df_test.groupby('area')['price'].mean().plot(figsize=(12,5), kind='bar')\n",
    "ax.set_xlabel('Price Area')\n",
    "ax.set_ylabel('Spot Price')\n",
    "ax.set_title('Areawise mean spot price')\n",
    "plt.savefig(\"/Users/shwetatiwari2601/Projects/hawk_private/dev_shweta/plots/mean_prices_per_area.pdf\")"
   ]
  },
  {
   "cell_type": "code",
   "execution_count": 1,
   "metadata": {},
   "outputs": [
    {
     "ename": "NameError",
     "evalue": "name 'df_test' is not defined",
     "output_type": "error",
     "traceback": [
      "\u001b[0;31m---------------------------------------------------------------------------\u001b[0m",
      "\u001b[0;31mNameError\u001b[0m                                 Traceback (most recent call last)",
      "\u001b[0;32m<ipython-input-1-c1ea907bad50>\u001b[0m in \u001b[0;36m<module>\u001b[0;34m\u001b[0m\n\u001b[0;32m----> 1\u001b[0;31m \u001b[0mdf_area\u001b[0m \u001b[0;34m=\u001b[0m \u001b[0mdf_test\u001b[0m\u001b[0;34m.\u001b[0m\u001b[0mloc\u001b[0m\u001b[0;34m[\u001b[0m\u001b[0;34m(\u001b[0m\u001b[0mdf_test\u001b[0m\u001b[0;34m[\u001b[0m\u001b[0;34m'area'\u001b[0m\u001b[0;34m]\u001b[0m\u001b[0;34m==\u001b[0m\u001b[0;36m3\u001b[0m\u001b[0;34m)\u001b[0m\u001b[0;34m]\u001b[0m\u001b[0;34m\u001b[0m\u001b[0;34m\u001b[0m\u001b[0m\n\u001b[0m\u001b[1;32m      2\u001b[0m \u001b[0;31m#df_area = df_area.loc[(df_area['area']!=15)]\u001b[0m\u001b[0;34m\u001b[0m\u001b[0;34m\u001b[0m\u001b[0;34m\u001b[0m\u001b[0m\n\u001b[1;32m      3\u001b[0m \u001b[0;31m#df_area = df_area.loc[(df_area['area']!=34)]\u001b[0m\u001b[0;34m\u001b[0m\u001b[0;34m\u001b[0m\u001b[0;34m\u001b[0m\u001b[0m\n\u001b[1;32m      4\u001b[0m \u001b[0mg\u001b[0m \u001b[0;34m=\u001b[0m \u001b[0msns\u001b[0m\u001b[0;34m.\u001b[0m\u001b[0mFacetGrid\u001b[0m\u001b[0;34m(\u001b[0m\u001b[0mdf_area\u001b[0m\u001b[0;34m,\u001b[0m \u001b[0mcol\u001b[0m\u001b[0;34m=\u001b[0m\u001b[0;34m\"area\"\u001b[0m\u001b[0;34m,\u001b[0m \u001b[0mcol_wrap\u001b[0m\u001b[0;34m=\u001b[0m\u001b[0;36m4\u001b[0m\u001b[0;34m)\u001b[0m\u001b[0;34m\u001b[0m\u001b[0;34m\u001b[0m\u001b[0m\n\u001b[1;32m      5\u001b[0m \u001b[0msns_plot\u001b[0m \u001b[0;34m=\u001b[0m \u001b[0mg\u001b[0m\u001b[0;34m.\u001b[0m\u001b[0mmap\u001b[0m\u001b[0;34m(\u001b[0m\u001b[0msns\u001b[0m\u001b[0;34m.\u001b[0m\u001b[0mdistplot\u001b[0m\u001b[0;34m,\u001b[0m \u001b[0;34m\"price\"\u001b[0m\u001b[0;34m,\u001b[0m \u001b[0mhist\u001b[0m\u001b[0;34m=\u001b[0m\u001b[0;32mFalse\u001b[0m\u001b[0;34m)\u001b[0m\u001b[0;34m\u001b[0m\u001b[0;34m\u001b[0m\u001b[0m\n",
      "\u001b[0;31mNameError\u001b[0m: name 'df_test' is not defined"
     ]
    }
   ],
   "source": [
    "df_area = df_test.loc[(df_test['area']==3)]\n",
    "#df_area = df_area.loc[(df_area['area']!=15)]\n",
    "#df_area = df_area.loc[(df_area['area']!=34)]\n",
    "g = sns.FacetGrid(df_area, col=\"area\", col_wrap=4)\n",
    "sns_plot = g.map(sns.distplot, \"price\", hist=False)\n",
    "sns_plot.savefig(\"/Users/shwetatiwari2601/Projects/hawk_private/dev_shweta/plots/data_distri_plot.pdf\")"
   ]
  },
  {
   "cell_type": "markdown",
   "metadata": {},
   "source": [
    "## Creating some features on top of available spot price data"
   ]
  },
  {
   "cell_type": "code",
   "execution_count": 3,
   "metadata": {},
   "outputs": [],
   "source": [
    "features = pd.DataFrame(index=prices.index) \n",
    "features['f_date'] = prices['system_date']                                                                       \n",
    "features['f_time'] = prices['system_time']                                                                       \n",
    "features['f_price'] = prices['spot_price']                                                                   \n",
    "features['f_area'] = prices['pricearea_id']                                                                      \n",
    "features['day_of_week'] = features.index.get_level_values('system_datetime').weekday                                 \n",
    "features['day_of_month'] = features.index.get_level_values('system_datetime').day\n",
    "features['time_of_day'] = features.index.get_level_values('system_datetime').time\n",
    "features['month_of_year'] = features.index.get_level_values('system_datetime').month"
   ]
  },
  {
   "cell_type": "code",
   "execution_count": 4,
   "metadata": {},
   "outputs": [
    {
     "data": {
      "text/html": [
       "<div>\n",
       "<style scoped>\n",
       "    .dataframe tbody tr th:only-of-type {\n",
       "        vertical-align: middle;\n",
       "    }\n",
       "\n",
       "    .dataframe tbody tr th {\n",
       "        vertical-align: top;\n",
       "    }\n",
       "\n",
       "    .dataframe thead th {\n",
       "        text-align: right;\n",
       "    }\n",
       "</style>\n",
       "<table border=\"1\" class=\"dataframe\">\n",
       "  <thead>\n",
       "    <tr style=\"text-align: right;\">\n",
       "      <th></th>\n",
       "      <th>pricearea_id</th>\n",
       "      <th>f_date</th>\n",
       "      <th>f_time</th>\n",
       "      <th>f_price</th>\n",
       "      <th>f_area</th>\n",
       "      <th>day_of_week</th>\n",
       "      <th>day_of_month</th>\n",
       "      <th>time_of_day</th>\n",
       "      <th>month_of_year</th>\n",
       "    </tr>\n",
       "    <tr>\n",
       "      <th>system_datetime</th>\n",
       "      <th></th>\n",
       "      <th></th>\n",
       "      <th></th>\n",
       "      <th></th>\n",
       "      <th></th>\n",
       "      <th></th>\n",
       "      <th></th>\n",
       "      <th></th>\n",
       "      <th></th>\n",
       "    </tr>\n",
       "  </thead>\n",
       "  <tbody>\n",
       "    <tr>\n",
       "      <th>2015-12-31 23:00:00</th>\n",
       "      <td>3</td>\n",
       "      <td>2015-12-31</td>\n",
       "      <td>23:00:00</td>\n",
       "      <td>16.39</td>\n",
       "      <td>3</td>\n",
       "      <td>3</td>\n",
       "      <td>31</td>\n",
       "      <td>23:00:00</td>\n",
       "      <td>12</td>\n",
       "    </tr>\n",
       "    <tr>\n",
       "      <th>2016-01-01 00:00:00</th>\n",
       "      <td>3</td>\n",
       "      <td>2016-01-01</td>\n",
       "      <td>00:00:00</td>\n",
       "      <td>16.04</td>\n",
       "      <td>3</td>\n",
       "      <td>4</td>\n",
       "      <td>1</td>\n",
       "      <td>00:00:00</td>\n",
       "      <td>1</td>\n",
       "    </tr>\n",
       "    <tr>\n",
       "      <th>2016-01-01 01:00:00</th>\n",
       "      <td>3</td>\n",
       "      <td>2016-01-01</td>\n",
       "      <td>01:00:00</td>\n",
       "      <td>15.74</td>\n",
       "      <td>3</td>\n",
       "      <td>4</td>\n",
       "      <td>1</td>\n",
       "      <td>01:00:00</td>\n",
       "      <td>1</td>\n",
       "    </tr>\n",
       "    <tr>\n",
       "      <th>2016-01-01 02:00:00</th>\n",
       "      <td>3</td>\n",
       "      <td>2016-01-01</td>\n",
       "      <td>02:00:00</td>\n",
       "      <td>15.57</td>\n",
       "      <td>3</td>\n",
       "      <td>4</td>\n",
       "      <td>1</td>\n",
       "      <td>02:00:00</td>\n",
       "      <td>1</td>\n",
       "    </tr>\n",
       "    <tr>\n",
       "      <th>2016-01-01 03:00:00</th>\n",
       "      <td>3</td>\n",
       "      <td>2016-01-01</td>\n",
       "      <td>03:00:00</td>\n",
       "      <td>15.47</td>\n",
       "      <td>3</td>\n",
       "      <td>4</td>\n",
       "      <td>1</td>\n",
       "      <td>03:00:00</td>\n",
       "      <td>1</td>\n",
       "    </tr>\n",
       "  </tbody>\n",
       "</table>\n",
       "</div>"
      ],
      "text/plain": [
       "                     pricearea_id      f_date    f_time  f_price  f_area  \\\n",
       "system_datetime                                                            \n",
       "2015-12-31 23:00:00             3  2015-12-31  23:00:00    16.39       3   \n",
       "2016-01-01 00:00:00             3  2016-01-01  00:00:00    16.04       3   \n",
       "2016-01-01 01:00:00             3  2016-01-01  01:00:00    15.74       3   \n",
       "2016-01-01 02:00:00             3  2016-01-01  02:00:00    15.57       3   \n",
       "2016-01-01 03:00:00             3  2016-01-01  03:00:00    15.47       3   \n",
       "\n",
       "                     day_of_week  day_of_month time_of_day  month_of_year  \n",
       "system_datetime                                                            \n",
       "2015-12-31 23:00:00            3            31    23:00:00             12  \n",
       "2016-01-01 00:00:00            4             1    00:00:00              1  \n",
       "2016-01-01 01:00:00            4             1    01:00:00              1  \n",
       "2016-01-01 02:00:00            4             1    02:00:00              1  \n",
       "2016-01-01 03:00:00            4             1    03:00:00              1  "
      ]
     },
     "execution_count": 4,
     "metadata": {},
     "output_type": "execute_result"
    }
   ],
   "source": [
    "features = features.reset_index(0)\n",
    "features.head()"
   ]
  },
  {
   "cell_type": "code",
   "execution_count": 5,
   "metadata": {},
   "outputs": [],
   "source": [
    "features = features.drop(['pricearea_id'], axis='columns')"
   ]
  },
  {
   "cell_type": "code",
   "execution_count": 7,
   "metadata": {},
   "outputs": [
    {
     "data": {
      "text/plain": [
       "<matplotlib.axes._subplots.AxesSubplot at 0x12088e908>"
      ]
     },
     "execution_count": 7,
     "metadata": {},
     "output_type": "execute_result"
    },
    {
     "data": {
      "image/png": "[encoded data removed]",
      "text/plain": [
       "<Figure size 432x288 with 1 Axes>"
      ]
     },
     "metadata": {},
     "output_type": "display_data"
    }
   ],
   "source": [
    "import seaborn as sns; sns.set()\n",
    "features.f_price = features.f_price.astype(float)\n",
    "features.f_price.plot()"
   ]
  },
  {
   "cell_type": "markdown",
   "metadata": {},
   "source": [
    "Example plot "
   ]
  },
  {
   "cell_type": "code",
   "execution_count": 8,
   "metadata": {},
   "outputs": [
    {
     "data": {
      "text/plain": [
       "<matplotlib.axes._subplots.AxesSubplot at 0x1a2f659d30>"
      ]
     },
     "execution_count": 8,
     "metadata": {},
     "output_type": "execute_result"
    },
    {
     "data": {
      "image/png": "[encoded data removed]",
      "text/plain": [
       "<Figure size 1440x360 with 1 Axes>"
      ]
     },
     "metadata": {},
     "output_type": "display_data"
    }
   ],
   "source": [
    "df = features.loc[(features['f_area']==3) & (features['f_date'] > '2018-01-01') & (features['f_date'] <= '2018-01-31')]\n",
    "df.plot(y='f_price', marker='o', figsize=(20,5))"
   ]
  },
  {
   "cell_type": "code",
   "execution_count": 9,
   "metadata": {},
   "outputs": [
    {
     "data": {
      "text/plain": [
       "<matplotlib.axes._subplots.AxesSubplot at 0x1a30d2efd0>"
      ]
     },
     "execution_count": 9,
     "metadata": {},
     "output_type": "execute_result"
    },
    {
     "data": {
      "image/png": "[encoded data removed]",
      "text/plain": [
       "<Figure size 1440x360 with 1 Axes>"
      ]
     },
     "metadata": {},
     "output_type": "display_data"
    }
   ],
   "source": [
    "df1 = df.loc[(df['f_date'] > '2018-01-01') & (df['f_date'] <= '2018-01-05')]\n",
    "df1.plot(y='f_price', marker='o', figsize=(20,5))"
   ]
  },
  {
   "cell_type": "markdown",
   "metadata": {},
   "source": [
    "# Create outcomes(target values) by day-ahead spot prices."
   ]
  },
  {
   "cell_type": "code",
   "execution_count": 10,
   "metadata": {},
   "outputs": [
    {
     "name": "stdout",
     "output_type": "stream",
     "text": [
      "Shape of outcome dataframe (568442, 9)\n"
     ]
    },
    {
     "name": "stderr",
     "output_type": "stream",
     "text": [
      "/anaconda3/lib/python3.6/site-packages/ipykernel_launcher.py:2: FutureWarning: 'f_area' is both an index level and a column label.\n",
      "Defaulting to column, but this will raise an ambiguity error in a future version\n",
      "  \n"
     ]
    }
   ],
   "source": [
    "outcomes = features.groupby('f_area').apply(lambda df: df.sort_values(['f_date', 'f_time']))\n",
    "outcomes['y'] = outcomes.groupby('f_area').f_price.shift(-24)\n",
    "print('Shape of outcome dataframe', outcomes.shape)   "
   ]
  },
  {
   "cell_type": "code",
   "execution_count": 11,
   "metadata": {
    "scrolled": true
   },
   "outputs": [],
   "source": [
    "outcomes = pd.get_dummies(outcomes, columns=['day_of_week', 'time_of_day', 'month_of_year'])"
   ]
  },
  {
   "cell_type": "code",
   "execution_count": 12,
   "metadata": {},
   "outputs": [
    {
     "data": {
      "text/plain": [
       "(568442, 49)"
      ]
     },
     "execution_count": 12,
     "metadata": {},
     "output_type": "execute_result"
    }
   ],
   "source": [
    "outcomes.shape"
   ]
  },
  {
   "cell_type": "markdown",
   "metadata": {},
   "source": [
    "## Filter the negative values\n",
    "Filter all zero and negative spot prices and remove all the NaNs because scikit cannot handle them."
   ]
  },
  {
   "cell_type": "code",
   "execution_count": 13,
   "metadata": {
    "collapsed": true
   },
   "outputs": [
    {
     "data": {
      "text/plain": [
       "f_date                  0\n",
       "f_time                  0\n",
       "f_price                 0\n",
       "f_area                  0\n",
       "day_of_month            0\n",
       "y                       0\n",
       "day_of_week_0           0\n",
       "day_of_week_1           0\n",
       "day_of_week_2           0\n",
       "day_of_week_3           0\n",
       "day_of_week_4           0\n",
       "day_of_week_5           0\n",
       "day_of_week_6           0\n",
       "time_of_day_00:00:00    0\n",
       "time_of_day_01:00:00    0\n",
       "time_of_day_02:00:00    0\n",
       "time_of_day_03:00:00    0\n",
       "time_of_day_04:00:00    0\n",
       "time_of_day_05:00:00    0\n",
       "time_of_day_06:00:00    0\n",
       "time_of_day_07:00:00    0\n",
       "time_of_day_08:00:00    0\n",
       "time_of_day_09:00:00    0\n",
       "time_of_day_10:00:00    0\n",
       "time_of_day_11:00:00    0\n",
       "time_of_day_12:00:00    0\n",
       "time_of_day_13:00:00    0\n",
       "time_of_day_14:00:00    0\n",
       "time_of_day_15:00:00    0\n",
       "time_of_day_16:00:00    0\n",
       "time_of_day_17:00:00    0\n",
       "time_of_day_18:00:00    0\n",
       "time_of_day_19:00:00    0\n",
       "time_of_day_20:00:00    0\n",
       "time_of_day_21:00:00    0\n",
       "time_of_day_22:00:00    0\n",
       "time_of_day_23:00:00    0\n",
       "month_of_year_1         0\n",
       "month_of_year_2         0\n",
       "month_of_year_3         0\n",
       "month_of_year_4         0\n",
       "month_of_year_5         0\n",
       "month_of_year_6         0\n",
       "month_of_year_7         0\n",
       "month_of_year_8         0\n",
       "month_of_year_9         0\n",
       "month_of_year_10        0\n",
       "month_of_year_11        0\n",
       "month_of_year_12        0\n",
       "dtype: int64"
      ]
     },
     "execution_count": 13,
     "metadata": {},
     "output_type": "execute_result"
    }
   ],
   "source": [
    "outcomes = outcomes.loc[(outcomes.f_price>0) & (outcomes.y>0)]\n",
    "outcomes.dropna(inplace=True)\n",
    "outcomes.isna().sum()"
   ]
  },
  {
   "cell_type": "code",
   "execution_count": 14,
   "metadata": {},
   "outputs": [],
   "source": [
    "outcomes['log_p'] = outcomes.f_price.apply(np.log)\n",
    "outcomes['spot_return']=(outcomes.f_price-outcomes.f_price.shift(1))/outcomes.f_price.shift(1)\n",
    "ma_12 = lambda x: x.rolling(12).mean()\n",
    "outcomes['mov_avg_12_hours'] = outcomes.f_price.groupby(level='f_area').apply(ma_12)\n",
    "ma_24 = lambda x: x.rolling(24).mean()\n",
    "outcomes['mov_avg_daily'] = outcomes.f_price.groupby(level='f_area').apply(ma_24)"
   ]
  },
  {
   "cell_type": "code",
   "execution_count": 15,
   "metadata": {},
   "outputs": [
    {
     "data": {
      "text/plain": [
       "(564749, 53)"
      ]
     },
     "execution_count": 15,
     "metadata": {},
     "output_type": "execute_result"
    }
   ],
   "source": [
    "outcomes = outcomes.reset_index(0, drop=True)\n",
    "outcomes.shape"
   ]
  },
  {
   "cell_type": "code",
   "execution_count": 65,
   "metadata": {},
   "outputs": [
    {
     "ename": "NameError",
     "evalue": "name 'outcomes' is not defined",
     "output_type": "error",
     "traceback": [
      "\u001b[0;31m---------------------------------------------------------------------------\u001b[0m",
      "\u001b[0;31mNameError\u001b[0m                                 Traceback (most recent call last)",
      "\u001b[0;32m<ipython-input-65-5cdc03419d41>\u001b[0m in \u001b[0;36m<module>\u001b[0;34m\u001b[0m\n\u001b[0;32m----> 1\u001b[0;31m \u001b[0max\u001b[0m \u001b[0;34m=\u001b[0m \u001b[0moutcomes\u001b[0m\u001b[0;34m.\u001b[0m\u001b[0mgroupby\u001b[0m\u001b[0;34m(\u001b[0m\u001b[0;34m'f_area'\u001b[0m\u001b[0;34m)\u001b[0m\u001b[0;34m[\u001b[0m\u001b[0;34m'f_price'\u001b[0m\u001b[0;34m]\u001b[0m\u001b[0;34m.\u001b[0m\u001b[0mmean\u001b[0m\u001b[0;34m(\u001b[0m\u001b[0;34m)\u001b[0m\u001b[0;34m.\u001b[0m\u001b[0mplot\u001b[0m\u001b[0;34m(\u001b[0m\u001b[0mfigsize\u001b[0m\u001b[0;34m=\u001b[0m\u001b[0;34m(\u001b[0m\u001b[0;36m12\u001b[0m\u001b[0;34m,\u001b[0m\u001b[0;36m5\u001b[0m\u001b[0;34m)\u001b[0m\u001b[0;34m,\u001b[0m \u001b[0mkind\u001b[0m\u001b[0;34m=\u001b[0m\u001b[0;34m'bar'\u001b[0m\u001b[0;34m)\u001b[0m\u001b[0;34m\u001b[0m\u001b[0;34m\u001b[0m\u001b[0m\n\u001b[0m\u001b[1;32m      2\u001b[0m \u001b[0max\u001b[0m\u001b[0;34m.\u001b[0m\u001b[0mset_xlabel\u001b[0m\u001b[0;34m(\u001b[0m\u001b[0;34m'Area'\u001b[0m\u001b[0;34m)\u001b[0m\u001b[0;34m\u001b[0m\u001b[0;34m\u001b[0m\u001b[0m\n\u001b[1;32m      3\u001b[0m \u001b[0max\u001b[0m\u001b[0;34m.\u001b[0m\u001b[0mset_ylabel\u001b[0m\u001b[0;34m(\u001b[0m\u001b[0;34m'Spot Price'\u001b[0m\u001b[0;34m)\u001b[0m\u001b[0;34m\u001b[0m\u001b[0;34m\u001b[0m\u001b[0m\n\u001b[1;32m      4\u001b[0m \u001b[0max\u001b[0m\u001b[0;34m.\u001b[0m\u001b[0mset_title\u001b[0m\u001b[0;34m(\u001b[0m\u001b[0;34m'Areawise mean spot price'\u001b[0m\u001b[0;34m)\u001b[0m\u001b[0;34m\u001b[0m\u001b[0;34m\u001b[0m\u001b[0m\n",
      "\u001b[0;31mNameError\u001b[0m: name 'outcomes' is not defined"
     ]
    }
   ],
   "source": [
    "ax = outcomes.groupby('f_area')['f_price'].mean().plot(figsize=(12,5), kind='bar')\n",
    "ax.set_xlabel('Area')\n",
    "ax.set_ylabel('Spot Price')\n",
    "ax.set_title('Areawise mean spot price')"
   ]
  },
  {
   "cell_type": "code",
   "execution_count": 17,
   "metadata": {},
   "outputs": [
    {
     "data": {
      "text/plain": [
       "<matplotlib.axes._subplots.AxesSubplot at 0x1246c9550>"
      ]
     },
     "execution_count": 17,
     "metadata": {},
     "output_type": "execute_result"
    },
    {
     "data": {
      "image/png": "[encoded data removed]",
      "text/plain": [
       "<Figure size 432x288 with 1 Axes>"
      ]
     },
     "metadata": {},
     "output_type": "display_data"
    }
   ],
   "source": [
    "outcomes.spot_return.plot()"
   ]
  },
  {
   "cell_type": "markdown",
   "metadata": {},
   "source": [
    "# Drop the most expensive areas"
   ]
  },
  {
   "cell_type": "code",
   "execution_count": 18,
   "metadata": {},
   "outputs": [],
   "source": [
    "outcomes.dropna(inplace=True)"
   ]
  },
  {
   "cell_type": "code",
   "execution_count": 19,
   "metadata": {},
   "outputs": [
    {
     "data": {
      "text/html": [
       "<div>\n",
       "<style scoped>\n",
       "    .dataframe tbody tr th:only-of-type {\n",
       "        vertical-align: middle;\n",
       "    }\n",
       "\n",
       "    .dataframe tbody tr th {\n",
       "        vertical-align: top;\n",
       "    }\n",
       "\n",
       "    .dataframe thead th {\n",
       "        text-align: right;\n",
       "    }\n",
       "</style>\n",
       "<table border=\"1\" class=\"dataframe\">\n",
       "  <thead>\n",
       "    <tr style=\"text-align: right;\">\n",
       "      <th></th>\n",
       "      <th>f_date</th>\n",
       "      <th>f_time</th>\n",
       "      <th>f_price</th>\n",
       "      <th>f_area</th>\n",
       "      <th>day_of_month</th>\n",
       "      <th>y</th>\n",
       "      <th>day_of_week_0</th>\n",
       "      <th>day_of_week_1</th>\n",
       "      <th>day_of_week_2</th>\n",
       "      <th>day_of_week_3</th>\n",
       "      <th>...</th>\n",
       "      <th>month_of_year_7</th>\n",
       "      <th>month_of_year_8</th>\n",
       "      <th>month_of_year_9</th>\n",
       "      <th>month_of_year_10</th>\n",
       "      <th>month_of_year_11</th>\n",
       "      <th>month_of_year_12</th>\n",
       "      <th>log_p</th>\n",
       "      <th>spot_return</th>\n",
       "      <th>mov_avg_12_hours</th>\n",
       "      <th>mov_avg_daily</th>\n",
       "    </tr>\n",
       "    <tr>\n",
       "      <th>system_datetime</th>\n",
       "      <th></th>\n",
       "      <th></th>\n",
       "      <th></th>\n",
       "      <th></th>\n",
       "      <th></th>\n",
       "      <th></th>\n",
       "      <th></th>\n",
       "      <th></th>\n",
       "      <th></th>\n",
       "      <th></th>\n",
       "      <th></th>\n",
       "      <th></th>\n",
       "      <th></th>\n",
       "      <th></th>\n",
       "      <th></th>\n",
       "      <th></th>\n",
       "      <th></th>\n",
       "      <th></th>\n",
       "      <th></th>\n",
       "      <th></th>\n",
       "      <th></th>\n",
       "    </tr>\n",
       "  </thead>\n",
       "  <tbody>\n",
       "    <tr>\n",
       "      <th>2016-01-01 22:00:00</th>\n",
       "      <td>2016-01-01</td>\n",
       "      <td>22:00:00</td>\n",
       "      <td>16.25</td>\n",
       "      <td>3</td>\n",
       "      <td>1</td>\n",
       "      <td>15.31</td>\n",
       "      <td>0</td>\n",
       "      <td>0</td>\n",
       "      <td>0</td>\n",
       "      <td>0</td>\n",
       "      <td>...</td>\n",
       "      <td>0</td>\n",
       "      <td>0</td>\n",
       "      <td>0</td>\n",
       "      <td>0</td>\n",
       "      <td>0</td>\n",
       "      <td>0</td>\n",
       "      <td>2.788093</td>\n",
       "      <td>-0.029851</td>\n",
       "      <td>17.555000</td>\n",
       "      <td>16.619167</td>\n",
       "    </tr>\n",
       "    <tr>\n",
       "      <th>2016-01-01 23:00:00</th>\n",
       "      <td>2016-01-01</td>\n",
       "      <td>23:00:00</td>\n",
       "      <td>16.47</td>\n",
       "      <td>3</td>\n",
       "      <td>1</td>\n",
       "      <td>15.99</td>\n",
       "      <td>0</td>\n",
       "      <td>0</td>\n",
       "      <td>0</td>\n",
       "      <td>0</td>\n",
       "      <td>...</td>\n",
       "      <td>0</td>\n",
       "      <td>0</td>\n",
       "      <td>0</td>\n",
       "      <td>0</td>\n",
       "      <td>0</td>\n",
       "      <td>0</td>\n",
       "      <td>2.801541</td>\n",
       "      <td>0.013538</td>\n",
       "      <td>17.552500</td>\n",
       "      <td>16.622500</td>\n",
       "    </tr>\n",
       "    <tr>\n",
       "      <th>2016-01-02 00:00:00</th>\n",
       "      <td>2016-01-02</td>\n",
       "      <td>00:00:00</td>\n",
       "      <td>15.89</td>\n",
       "      <td>3</td>\n",
       "      <td>2</td>\n",
       "      <td>15.87</td>\n",
       "      <td>0</td>\n",
       "      <td>0</td>\n",
       "      <td>0</td>\n",
       "      <td>0</td>\n",
       "      <td>...</td>\n",
       "      <td>0</td>\n",
       "      <td>0</td>\n",
       "      <td>0</td>\n",
       "      <td>0</td>\n",
       "      <td>0</td>\n",
       "      <td>0</td>\n",
       "      <td>2.765690</td>\n",
       "      <td>-0.035216</td>\n",
       "      <td>17.483333</td>\n",
       "      <td>16.616250</td>\n",
       "    </tr>\n",
       "    <tr>\n",
       "      <th>2016-01-02 01:00:00</th>\n",
       "      <td>2016-01-02</td>\n",
       "      <td>01:00:00</td>\n",
       "      <td>15.03</td>\n",
       "      <td>3</td>\n",
       "      <td>2</td>\n",
       "      <td>15.76</td>\n",
       "      <td>0</td>\n",
       "      <td>0</td>\n",
       "      <td>0</td>\n",
       "      <td>0</td>\n",
       "      <td>...</td>\n",
       "      <td>0</td>\n",
       "      <td>0</td>\n",
       "      <td>0</td>\n",
       "      <td>0</td>\n",
       "      <td>0</td>\n",
       "      <td>0</td>\n",
       "      <td>2.710048</td>\n",
       "      <td>-0.054122</td>\n",
       "      <td>17.305000</td>\n",
       "      <td>16.586667</td>\n",
       "    </tr>\n",
       "    <tr>\n",
       "      <th>2016-01-02 02:00:00</th>\n",
       "      <td>2016-01-02</td>\n",
       "      <td>02:00:00</td>\n",
       "      <td>13.19</td>\n",
       "      <td>3</td>\n",
       "      <td>2</td>\n",
       "      <td>15.59</td>\n",
       "      <td>0</td>\n",
       "      <td>0</td>\n",
       "      <td>0</td>\n",
       "      <td>0</td>\n",
       "      <td>...</td>\n",
       "      <td>0</td>\n",
       "      <td>0</td>\n",
       "      <td>0</td>\n",
       "      <td>0</td>\n",
       "      <td>0</td>\n",
       "      <td>0</td>\n",
       "      <td>2.579459</td>\n",
       "      <td>-0.122422</td>\n",
       "      <td>16.904167</td>\n",
       "      <td>16.487500</td>\n",
       "    </tr>\n",
       "  </tbody>\n",
       "</table>\n",
       "<p>5 rows × 53 columns</p>\n",
       "</div>"
      ],
      "text/plain": [
       "                         f_date    f_time  f_price  f_area  day_of_month  \\\n",
       "system_datetime                                                            \n",
       "2016-01-01 22:00:00  2016-01-01  22:00:00    16.25       3             1   \n",
       "2016-01-01 23:00:00  2016-01-01  23:00:00    16.47       3             1   \n",
       "2016-01-02 00:00:00  2016-01-02  00:00:00    15.89       3             2   \n",
       "2016-01-02 01:00:00  2016-01-02  01:00:00    15.03       3             2   \n",
       "2016-01-02 02:00:00  2016-01-02  02:00:00    13.19       3             2   \n",
       "\n",
       "                         y  day_of_week_0  day_of_week_1  day_of_week_2  \\\n",
       "system_datetime                                                           \n",
       "2016-01-01 22:00:00  15.31              0              0              0   \n",
       "2016-01-01 23:00:00  15.99              0              0              0   \n",
       "2016-01-02 00:00:00  15.87              0              0              0   \n",
       "2016-01-02 01:00:00  15.76              0              0              0   \n",
       "2016-01-02 02:00:00  15.59              0              0              0   \n",
       "\n",
       "                     day_of_week_3      ...        month_of_year_7  \\\n",
       "system_datetime                         ...                          \n",
       "2016-01-01 22:00:00              0      ...                      0   \n",
       "2016-01-01 23:00:00              0      ...                      0   \n",
       "2016-01-02 00:00:00              0      ...                      0   \n",
       "2016-01-02 01:00:00              0      ...                      0   \n",
       "2016-01-02 02:00:00              0      ...                      0   \n",
       "\n",
       "                     month_of_year_8  month_of_year_9  month_of_year_10  \\\n",
       "system_datetime                                                           \n",
       "2016-01-01 22:00:00                0                0                 0   \n",
       "2016-01-01 23:00:00                0                0                 0   \n",
       "2016-01-02 00:00:00                0                0                 0   \n",
       "2016-01-02 01:00:00                0                0                 0   \n",
       "2016-01-02 02:00:00                0                0                 0   \n",
       "\n",
       "                     month_of_year_11  month_of_year_12     log_p  \\\n",
       "system_datetime                                                     \n",
       "2016-01-01 22:00:00                 0                 0  2.788093   \n",
       "2016-01-01 23:00:00                 0                 0  2.801541   \n",
       "2016-01-02 00:00:00                 0                 0  2.765690   \n",
       "2016-01-02 01:00:00                 0                 0  2.710048   \n",
       "2016-01-02 02:00:00                 0                 0  2.579459   \n",
       "\n",
       "                     spot_return  mov_avg_12_hours  mov_avg_daily  \n",
       "system_datetime                                                    \n",
       "2016-01-01 22:00:00    -0.029851         17.555000      16.619167  \n",
       "2016-01-01 23:00:00     0.013538         17.552500      16.622500  \n",
       "2016-01-02 00:00:00    -0.035216         17.483333      16.616250  \n",
       "2016-01-02 01:00:00    -0.054122         17.305000      16.586667  \n",
       "2016-01-02 02:00:00    -0.122422         16.904167      16.487500  \n",
       "\n",
       "[5 rows x 53 columns]"
      ]
     },
     "execution_count": 19,
     "metadata": {},
     "output_type": "execute_result"
    }
   ],
   "source": [
    "areas = outcomes.loc[(outcomes['f_area']!=14) & (outcomes['f_area']!=15) & (outcomes['f_area']!=34)]\n",
    "areas.head()"
   ]
  },
  {
   "cell_type": "code",
   "execution_count": 20,
   "metadata": {},
   "outputs": [],
   "source": [
    "areas.to_csv('/Users/shwetatiwari2601/Desktop/HAWK_Papers/Dataset/HAWK/area_sp.csv')"
   ]
  },
  {
   "cell_type": "markdown",
   "metadata": {},
   "source": [
    "y = areas.y\n",
    "X = areas.loc[:, areas.columns != 'y']"
   ]
  },
  {
   "cell_type": "markdown",
   "metadata": {},
   "source": [
    "X = X.drop(['f_date', 'f_area', 'f_time', 'day_of_month'], axis='columns')\n",
    "X.dropna()"
   ]
  },
  {
   "cell_type": "code",
   "execution_count": 26,
   "metadata": {},
   "outputs": [],
   "source": [
    "import skgarden\n",
    "from sklearn.metrics import mean_squared_error\n",
    "from sklearn.model_selection import train_test_split"
   ]
  },
  {
   "cell_type": "code",
   "execution_count": 27,
   "metadata": {},
   "outputs": [],
   "source": [
    "_DATA_PATH = '/Users/shwetatiwari2601/Desktop/HAWK_Papers/Dataset/HAWK/area_sp.csv'\n",
    "_DROP_COLUMNS = ['system_datetime', 'f_date', 'f_time','f_date', 'f_area', 'f_time', 'day_of_month']\n",
    "_HYPER_PARAMS = dict(\n",
    "n_estimators=10,\n",
    "criterion='mse',\n",
    "max_depth=None,\n",
    "min_samples_split=2,\n",
    "min_samples_leaf=20,\n",
    "min_weight_fraction_leaf=0.0,\n",
    "max_features='auto',\n",
    "max_leaf_nodes=None,\n",
    "# min_impurity_decrease=0.0,\n",
    "# min_impurity_split=None,\n",
    "bootstrap=True,\n",
    "oob_score=False,\n",
    "n_jobs=-1,\n",
    "random_state=None,\n",
    "verbose=0,\n",
    "warm_start=False\n",
    ")"
   ]
  },
  {
   "cell_type": "code",
   "execution_count": 28,
   "metadata": {},
   "outputs": [
    {
     "name": "stdout",
     "output_type": "stream",
     "text": [
      "y_pred = [41.49371789 31.81348923 58.99959371 ... 28.80540116 50.44240289\n",
      " 23.67564981]\n",
      "y_true = [41.81 27.73 65.08 ... 30.06 52.84 30.84]\n"
     ]
    },
    {
     "ename": "NameError",
     "evalue": "name 'results' is not defined",
     "output_type": "error",
     "traceback": [
      "\u001b[0;31m---------------------------------------------------------------------------\u001b[0m",
      "\u001b[0;31mNameError\u001b[0m                                 Traceback (most recent call last)",
      "\u001b[0;32m<ipython-input-28-73eafea8c8ac>\u001b[0m in \u001b[0;36m<module>\u001b[0;34m\u001b[0m\n\u001b[1;32m     20\u001b[0m \u001b[0mtau\u001b[0m \u001b[0;34m=\u001b[0m \u001b[0;36m10\u001b[0m\u001b[0;34m\u001b[0m\u001b[0m\n\u001b[1;32m     21\u001b[0m \u001b[0mresults_lower\u001b[0m \u001b[0;34m=\u001b[0m \u001b[0mmodel\u001b[0m\u001b[0;34m.\u001b[0m\u001b[0mpredict\u001b[0m\u001b[0;34m(\u001b[0m\u001b[0mX_test\u001b[0m\u001b[0;34m,\u001b[0m \u001b[0mtau\u001b[0m\u001b[0;34m)\u001b[0m\u001b[0;34m\u001b[0m\u001b[0m\n\u001b[0;32m---> 22\u001b[0;31m \u001b[0mprint\u001b[0m\u001b[0;34m(\u001b[0m\u001b[0;34m'predict(X_test, quantile=%d) = %s'\u001b[0m \u001b[0;34m%\u001b[0m \u001b[0;34m(\u001b[0m\u001b[0mtau\u001b[0m\u001b[0;34m,\u001b[0m \u001b[0mresults\u001b[0m\u001b[0;34m)\u001b[0m\u001b[0;34m)\u001b[0m\u001b[0;34m\u001b[0m\u001b[0m\n\u001b[0m\u001b[1;32m     23\u001b[0m \u001b[0mtau\u001b[0m \u001b[0;34m=\u001b[0m \u001b[0;36m90\u001b[0m\u001b[0;34m\u001b[0m\u001b[0m\n\u001b[1;32m     24\u001b[0m \u001b[0mresults_upper\u001b[0m \u001b[0;34m=\u001b[0m \u001b[0mmodel\u001b[0m\u001b[0;34m.\u001b[0m\u001b[0mpredict\u001b[0m\u001b[0;34m(\u001b[0m\u001b[0mX_test\u001b[0m\u001b[0;34m,\u001b[0m \u001b[0mtau\u001b[0m\u001b[0;34m)\u001b[0m\u001b[0;34m\u001b[0m\u001b[0m\n",
      "\u001b[0;31mNameError\u001b[0m: name 'results' is not defined"
     ]
    }
   ],
   "source": [
    "dataset = pd.read_csv(_DATA_PATH)\n",
    "dataset.drop(_DROP_COLUMNS, axis='columns', inplace=True)\n",
    "X = dataset[[col for col in dataset.columns if col != 'y']]\n",
    "y = dataset['y']\n",
    "\n",
    "X_train, X_test, y_train, y_test = train_test_split(X, y, test_size=0.33, random_state=42)\n",
    "\n",
    "model = skgarden.RandomForestQuantileRegressor(**_HYPER_PARAMS)\n",
    "\n",
    "model.fit(X_train, y_train)\n",
    "\n",
    "# QRF returns the point predictions generated from the `scikit-learn` RF impl.\n",
    "y_pred = model.predict(X_test)\n",
    "print('y_pred = %s' % y_pred)\n",
    "print('y_true = %s' % y_test.values)\n",
    "\n",
    "#tau = 0  # F(X) = P(X <= x) = τ / 100.0\n",
    "#results = model.predict(X_test, tau)\n",
    "#print('predict(X_test, quantile=%d) = %s' % (tau, results))\n",
    "tau = 10\n",
    "y_lower = model.predict(X_test, tau)\n",
    "print('predict(X_test, quantile=%d) = %s' % (tau, y_lower))\n",
    "tau = 90\n",
    "y_upper = model.predict(X_test, tau)\n",
    "print('predict(X_test, quantile=%d) = %s' % (tau, y_upper))\n",
    "\n",
    "mse = mean_squared_error(y_test, y_pred)\n",
    "print('MSE = %f' % mse)"
   ]
  },
  {
   "cell_type": "code",
   "execution_count": 29,
   "metadata": {},
   "outputs": [
    {
     "name": "stdout",
     "output_type": "stream",
     "text": [
      "predict(X_test, quantile=10) = [34.63000107 25.72159871 44.88999939 ... 27.17000008 43.84000015\n",
      " 22.27032083]\n",
      "predict(X_test, quantile=90) = [47.85133841 41.61000061 71.48999786 ... 30.40999985 55.74000168\n",
      " 24.84000015]\n",
      "MSE = 36.848092\n"
     ]
    }
   ],
   "source": [
    "tau = 10\n",
    "y_lower = model.predict(X_test, tau)\n",
    "print('predict(X_test, quantile=%d) = %s' % (tau, y_lower))\n",
    "tau = 90\n",
    "y_upper = model.predict(X_test, tau)\n",
    "print('predict(X_test, quantile=%d) = %s' % (tau, y_upper))\n",
    "\n",
    "mse = mean_squared_error(y_test, y_pred)\n",
    "print('MSE = %f' % mse)"
   ]
  },
  {
   "cell_type": "code",
   "execution_count": 46,
   "metadata": {},
   "outputs": [
    {
     "data": {
      "text/html": [
       "<div>\n",
       "<style scoped>\n",
       "    .dataframe tbody tr th:only-of-type {\n",
       "        vertical-align: middle;\n",
       "    }\n",
       "\n",
       "    .dataframe tbody tr th {\n",
       "        vertical-align: top;\n",
       "    }\n",
       "\n",
       "    .dataframe thead th {\n",
       "        text-align: right;\n",
       "    }\n",
       "</style>\n",
       "<table border=\"1\" class=\"dataframe\">\n",
       "  <thead>\n",
       "    <tr style=\"text-align: right;\">\n",
       "      <th></th>\n",
       "      <th>y</th>\n",
       "      <th>yhat</th>\n",
       "      <th>ylower</th>\n",
       "      <th>yupper</th>\n",
       "    </tr>\n",
       "  </thead>\n",
       "  <tbody>\n",
       "    <tr>\n",
       "      <th>18959</th>\n",
       "      <td>41.81</td>\n",
       "      <td>41.493718</td>\n",
       "      <td>34.630001</td>\n",
       "      <td>47.851338</td>\n",
       "    </tr>\n",
       "    <tr>\n",
       "      <th>106656</th>\n",
       "      <td>27.73</td>\n",
       "      <td>31.813489</td>\n",
       "      <td>25.721599</td>\n",
       "      <td>41.610001</td>\n",
       "    </tr>\n",
       "    <tr>\n",
       "      <th>231561</th>\n",
       "      <td>65.08</td>\n",
       "      <td>58.999594</td>\n",
       "      <td>44.889999</td>\n",
       "      <td>71.489998</td>\n",
       "    </tr>\n",
       "    <tr>\n",
       "      <th>391121</th>\n",
       "      <td>46.16</td>\n",
       "      <td>48.462902</td>\n",
       "      <td>39.959999</td>\n",
       "      <td>56.939999</td>\n",
       "    </tr>\n",
       "    <tr>\n",
       "      <th>259861</th>\n",
       "      <td>21.26</td>\n",
       "      <td>20.842703</td>\n",
       "      <td>20.149027</td>\n",
       "      <td>21.760000</td>\n",
       "    </tr>\n",
       "  </tbody>\n",
       "</table>\n",
       "</div>"
      ],
      "text/plain": [
       "            y       yhat     ylower     yupper\n",
       "18959   41.81  41.493718  34.630001  47.851338\n",
       "106656  27.73  31.813489  25.721599  41.610001\n",
       "231561  65.08  58.999594  44.889999  71.489998\n",
       "391121  46.16  48.462902  39.959999  56.939999\n",
       "259861  21.26  20.842703  20.149027  21.760000"
      ]
     },
     "execution_count": 46,
     "metadata": {},
     "output_type": "execute_result"
    }
   ],
   "source": [
    "data = pd.DataFrame(index=X_test.index) \n",
    "data['y'] = y_test.values\n",
    "data['yhat'] = y_pred\n",
    "data['ylower'] = y_lower\n",
    "data['yupper'] = y_upper\n",
    "data.head()"
   ]
  },
  {
   "cell_type": "code",
   "execution_count": 48,
   "metadata": {},
   "outputs": [],
   "source": [
    "data.to_csv('/Users/shwetatiwari2601/Desktop/HAWK_Papers/Dataset/HAWK/trained_values_QRF.csv')"
   ]
  },
  {
   "cell_type": "code",
   "execution_count": 47,
   "metadata": {},
   "outputs": [
    {
     "data": {
      "text/html": [
       "<div>\n",
       "<style scoped>\n",
       "    .dataframe tbody tr th:only-of-type {\n",
       "        vertical-align: middle;\n",
       "    }\n",
       "\n",
       "    .dataframe tbody tr th {\n",
       "        vertical-align: top;\n",
       "    }\n",
       "\n",
       "    .dataframe thead th {\n",
       "        text-align: right;\n",
       "    }\n",
       "</style>\n",
       "<table border=\"1\" class=\"dataframe\">\n",
       "  <thead>\n",
       "    <tr style=\"text-align: right;\">\n",
       "      <th></th>\n",
       "      <th>y</th>\n",
       "      <th>yhat</th>\n",
       "      <th>ylower</th>\n",
       "      <th>yupper</th>\n",
       "    </tr>\n",
       "  </thead>\n",
       "  <tbody>\n",
       "    <tr>\n",
       "      <th>2</th>\n",
       "      <td>15.87</td>\n",
       "      <td>16.835114</td>\n",
       "      <td>15.74</td>\n",
       "      <td>18.040001</td>\n",
       "    </tr>\n",
       "    <tr>\n",
       "      <th>6</th>\n",
       "      <td>15.83</td>\n",
       "      <td>15.271120</td>\n",
       "      <td>13.96</td>\n",
       "      <td>15.831668</td>\n",
       "    </tr>\n",
       "    <tr>\n",
       "      <th>7</th>\n",
       "      <td>14.98</td>\n",
       "      <td>14.260401</td>\n",
       "      <td>9.64</td>\n",
       "      <td>15.890000</td>\n",
       "    </tr>\n",
       "    <tr>\n",
       "      <th>11</th>\n",
       "      <td>17.15</td>\n",
       "      <td>16.981146</td>\n",
       "      <td>15.87</td>\n",
       "      <td>17.940001</td>\n",
       "    </tr>\n",
       "    <tr>\n",
       "      <th>24</th>\n",
       "      <td>15.74</td>\n",
       "      <td>16.329202</td>\n",
       "      <td>15.42</td>\n",
       "      <td>18.030001</td>\n",
       "    </tr>\n",
       "  </tbody>\n",
       "</table>\n",
       "</div>"
      ],
      "text/plain": [
       "        y       yhat  ylower     yupper\n",
       "2   15.87  16.835114   15.74  18.040001\n",
       "6   15.83  15.271120   13.96  15.831668\n",
       "7   14.98  14.260401    9.64  15.890000\n",
       "11  17.15  16.981146   15.87  17.940001\n",
       "24  15.74  16.329202   15.42  18.030001"
      ]
     },
     "execution_count": 47,
     "metadata": {},
     "output_type": "execute_result"
    }
   ],
   "source": [
    "data.sort_index(inplace=True)\n",
    "data.head()"
   ]
  },
  {
   "cell_type": "code",
   "execution_count": 31,
   "metadata": {},
   "outputs": [],
   "source": [
    "def plot_prediction_intervals(data, y_true_label='y',  y_pred_label='yhat', \n",
    "                              y_lower_label='ylower', y_upper_label='yupper',\n",
    "                              figsize=(20,5)):\n",
    "    fig, ax = plt.subplots(figsize=figsize)\n",
    "\n",
    "    ax.plot(data[[y_true_label]], color='green', linestyle='solid')\n",
    "    ax.plot(data[[y_pred_label]], color='blue', linestyle='dotted')\n",
    "    ax.fill_between(data.index, data[y_lower_label], data[y_upper_label], \n",
    "                    label='prediction interval', color='grey')\n",
    "\n",
    "#     ax.set_xlim([0, len(data) -1 ])\n",
    "\n",
    "    ax.set_xlabel('x axis label')\n",
    "    ax.set_ylabel('y axis label')\n",
    "    ax.set_title('plot title')\n",
    "    ax.legend(['Ground Truth', 'Point Prediction', 'Prediction Interval'], loc=2)\n",
    "\t\n",
    "    plt.close()\n",
    "    return fig"
   ]
  },
  {
   "cell_type": "code",
   "execution_count": 1,
   "metadata": {},
   "outputs": [
    {
     "ename": "NameError",
     "evalue": "name 'plot_prediction_intervals' is not defined",
     "output_type": "error",
     "traceback": [
      "\u001b[0;31m---------------------------------------------------------------------------\u001b[0m",
      "\u001b[0;31mNameError\u001b[0m                                 Traceback (most recent call last)",
      "\u001b[0;32m<ipython-input-1-cce1aedb9b4b>\u001b[0m in \u001b[0;36m<module>\u001b[0;34m\u001b[0m\n\u001b[0;32m----> 1\u001b[0;31m \u001b[0mplot_prediction_intervals\u001b[0m\u001b[0;34m(\u001b[0m\u001b[0mdata\u001b[0m\u001b[0;34m[\u001b[0m\u001b[0;36m1\u001b[0m\u001b[0;34m:\u001b[0m\u001b[0;36m50\u001b[0m\u001b[0;34m]\u001b[0m\u001b[0;34m)\u001b[0m\u001b[0;34m\u001b[0m\u001b[0;34m\u001b[0m\u001b[0m\n\u001b[0m",
      "\u001b[0;31mNameError\u001b[0m: name 'plot_prediction_intervals' is not defined"
     ]
    }
   ],
   "source": [
    "plot_prediction_intervals(data[1:50])"
   ]
  },
  {
   "cell_type": "code",
   "execution_count": 1,
   "metadata": {},
   "outputs": [
    {
     "ename": "NameError",
     "evalue": "name 'data' is not defined",
     "output_type": "error",
     "traceback": [
      "\u001b[0;31m---------------------------------------------------------------------------\u001b[0m",
      "\u001b[0;31mNameError\u001b[0m                                 Traceback (most recent call last)",
      "\u001b[0;32m<ipython-input-1-c5d84736ba45>\u001b[0m in \u001b[0;36m<module>\u001b[0;34m\u001b[0m\n\u001b[0;32m----> 1\u001b[0;31m \u001b[0mdata\u001b[0m\u001b[0;34m\u001b[0m\u001b[0m\n\u001b[0m",
      "\u001b[0;31mNameError\u001b[0m: name 'data' is not defined"
     ]
    }
   ],
   "source": []
  },
  {
   "cell_type": "code",
   "execution_count": null,
   "metadata": {},
   "outputs": [],
   "source": []
  }
 ],
 "metadata": {
  "kernelspec": {
   "display_name": "Python 3 (ipykernel)",
   "language": "python",
   "name": "python3"
  },
  "language_info": {
   "codemirror_mode": {
    "name": "ipython",
    "version": 3
   },
   "file_extension": ".py",
   "mimetype": "text/x-python",
   "name": "python",
   "nbconvert_exporter": "python",
   "pygments_lexer": "ipython3",
   "version": "3.8.9"
  }
 },
 "nbformat": 4,
 "nbformat_minor": 2
}
